{
  "cells": [
    {
      "cell_type": "code",
      "execution_count": 1,
      "id": "2460c33c",
      "metadata": {
        "id": "2460c33c"
      },
      "outputs": [],
      "source": [
        "import torch\n",
        "from torch import nn"
      ]
    },
    {
      "cell_type": "code",
      "execution_count": 2,
      "id": "abbaaa59",
      "metadata": {
        "id": "abbaaa59"
      },
      "outputs": [],
      "source": [
        "class ScaleInvariantLoss(nn.Module):\n",
        "    def __init__(self, epsilon=1.0e-8):\n",
        "        super(ScaleInvariantLoss, self).__init__()\n",
        "        self.epsilon = torch.tensor(epsilon).float().cuda()\n",
        "\n",
        "    def forward(self, x):\n",
        "        predicted_depths, goal_depths, boundaries = x\n",
        "        depth_ratio_map = torch.log(boundaries * predicted_depths + self.epsilon) - \\\n",
        "                          torch.log(boundaries * goal_depths + self.epsilon)\n",
        "\n",
        "        weighted_sum = torch.sum(boundaries, dim=(1, 2, 3))\n",
        "        loss_1 = torch.sum(depth_ratio_map * depth_ratio_map,\n",
        "                           dim=(1, 2, 3)) / weighted_sum\n",
        "        sum_2 = torch.sum(depth_ratio_map, dim=(1, 2, 3))\n",
        "        loss_2 = (sum_2 * sum_2) / (weighted_sum * weighted_sum)\n",
        "        return torch.mean(loss_1 + loss_2)"
      ]
    },
    {
      "cell_type": "code",
      "execution_count": 3,
      "id": "530e39c2",
      "metadata": {
        "id": "530e39c2"
      },
      "outputs": [],
      "source": [
        "class NormalizedWeightedMaskedL2Loss(nn.Module):\n",
        "    def __init__(self, epsilon=1.0):\n",
        "        super(NormalizedWeightedMaskedL2Loss, self).__init__()\n",
        "        self.epsilon = torch.tensor(epsilon).float().cuda()\n",
        "\n",
        "    def forward(self, x):\n",
        "        depth_maps, warped_depth_maps, intersect_masks, translations = x\n",
        "        translations = translations.reshape(-1, 3, 1)\n",
        "        translation_norms = torch.sqrt(torch.sum(translations * translations, dim=(1, 2))).reshape(-1)\n",
        "        translation_weights = (\n",
        "                torch.tensor(1.0).float().cuda() / (torch.tensor(1.0e-8).float().cuda() + translation_norms)).reshape(\n",
        "            -1)\n",
        "        loss = torch.sum(intersect_masks * (depth_maps - warped_depth_maps) * (depth_maps - warped_depth_maps),\n",
        "                         dim=(1, 2, 3), keepdim=False) / (0.5 * torch.sum(\n",
        "            intersect_masks * (depth_maps * depth_maps + warped_depth_maps * warped_depth_maps), dim=(1, 2, 3),\n",
        "            keepdim=False) + self.epsilon)\n",
        "        loss = torch.sum(loss * translation_weights) / torch.sum(translation_weights)\n",
        "        return loss\n"
      ]
    },
    {
      "cell_type": "code",
      "execution_count": 4,
      "id": "485e1453",
      "metadata": {
        "id": "485e1453"
      },
      "outputs": [],
      "source": [
        "class SparseMaskedL1Loss(nn.Module):\n",
        "    def __init__(self, epsilon=1.0):\n",
        "        super(SparseMaskedL1Loss, self).__init__()\n",
        "        self.epsilon = torch.tensor(epsilon).float().cuda()\n",
        "\n",
        "    def forward(self, x):\n",
        "        flows, flows_from_depth, sparse_masks = x\n",
        "        loss = torch.sum(sparse_masks * torch.abs(flows - flows_from_depth),\n",
        "                         dim=(1, 2, 3)) / (self.epsilon + torch.sum(sparse_masks, dim=(1, 2, 3)))\n",
        "        return torch.mean(loss)"
      ]
    },
    {
      "cell_type": "code",
      "execution_count": 5,
      "id": "46f95c55",
      "metadata": {
        "id": "46f95c55"
      },
      "outputs": [],
      "source": [
        "class SparseMaskedL1LossDisplay(nn.Module):\n",
        "    def __init__(self, epsilon=1.0):\n",
        "        super(SparseMaskedL1LossDisplay, self).__init__()\n",
        "        self.epsilon = torch.tensor(epsilon).float().cuda()\n",
        "\n",
        "    def forward(self, x):\n",
        "        flows, flows_from_depth, sparse_masks = x\n",
        "        loss = torch.sum(sparse_masks * torch.abs(flows - flows_from_depth),\n",
        "                         dim=(1, 2, 3), keepdim=False) / (\n",
        "                       self.epsilon + torch.sum(sparse_masks, dim=(1, 2, 3), keepdim=False))\n",
        "        return loss"
      ]
    },
    {
      "cell_type": "code",
      "execution_count": 6,
      "id": "2f1c7938",
      "metadata": {
        "id": "2f1c7938"
      },
      "outputs": [],
      "source": [
        "class MaskedL1Loss(nn.Module):\n",
        "    def __init__(self, epsilon=1.0):\n",
        "        super(MaskedL1Loss, self).__init__()\n",
        "        self.epsilon = torch.tensor(epsilon).float().cuda()\n",
        "\n",
        "    def forward(self, x):\n",
        "        images, twice_warped_images, intersect_masks = x\n",
        "        loss = torch.sum(intersect_masks * torch.abs(images - twice_warped_images), dim=(1, 2, 3)) / (\n",
        "                self.epsilon + torch.sum(intersect_masks, dim=(1, 2, 3)))\n",
        "        return torch.mean(loss)"
      ]
    },
    {
      "cell_type": "code",
      "execution_count": 7,
      "id": "e95afa13",
      "metadata": {
        "id": "e95afa13"
      },
      "outputs": [],
      "source": [
        "class NormalizedL2Loss(nn.Module):\n",
        "    def __init__(self, eps=1.0e-3):\n",
        "        super(NormalizedL2Loss, self).__init__()\n",
        "        self.eps = eps\n",
        "\n",
        "    def forward(self, x):\n",
        "        depth_maps, warped_depth_maps, intersect_masks = x\n",
        "        with torch.no_grad():\n",
        "            mean_value = torch.sum(intersect_masks * depth_maps, dim=(1, 2, 3), keepdim=False) / (\n",
        "                    self.eps + torch.sum(intersect_masks, dim=(1, 2, 3),\n",
        "                                         keepdim=False))\n",
        "        loss = torch.sum(intersect_masks * (depth_maps - warped_depth_maps) * (depth_maps - warped_depth_maps),\n",
        "                         dim=(1, 2, 3), keepdim=False) / (0.5 * torch.sum(\n",
        "            intersect_masks * (depth_maps * depth_maps + warped_depth_maps * warped_depth_maps), dim=(1, 2, 3),\n",
        "            keepdim=False) + 1.0e-5 * mean_value * mean_value)\n",
        "        return torch.mean(loss)\n",
        "\n",
        "\n",
        "class NormalizedDistanceLoss(nn.Module):\n",
        "    def __init__(self, height, width, eps=1.0e-5):\n",
        "        super(NormalizedDistanceLoss, self).__init__()\n",
        "        self.eps = eps\n",
        "        self.y_grid, self.x_grid = torch.meshgrid(\n",
        "            [torch.arange(start=0, end=height, dtype=torch.float32).cuda(),\n",
        "             torch.arange(start=0, end=width, dtype=torch.float32).cuda()])\n",
        "        self.y_grid = self.y_grid.reshape(1, 1, height, width)\n",
        "        self.x_grid = self.x_grid.reshape(1, 1, height, width)\n",
        "\n",
        "    def forward(self, x):\n",
        "        depth_maps, warped_depth_maps, intersect_masks, intrinsics = x\n",
        "        fx = intrinsics[:, 0, 0].reshape(-1, 1, 1, 1)\n",
        "        fy = intrinsics[:, 1, 1].reshape(-1, 1, 1, 1)\n",
        "        cx = intrinsics[:, 0, 2].reshape(-1, 1, 1, 1)\n",
        "        cy = intrinsics[:, 1, 2].reshape(-1, 1, 1, 1)\n",
        "\n",
        "        with torch.no_grad():\n",
        "            mean_value = torch.sum(intersect_masks * depth_maps, dim=(1, 2, 3), keepdim=False) / (\n",
        "                    self.eps + torch.sum(intersect_masks, dim=(1, 2, 3),\n",
        "                                         keepdim=False))\n",
        "\n",
        "        location_3d_maps = torch.cat(\n",
        "            [(self.x_grid - cx) / fx * depth_maps, (self.y_grid - cy) / fy * depth_maps, depth_maps], dim=1)\n",
        "\n",
        "        warped_location_3d_maps = torch.cat(\n",
        "            [(self.x_grid - cx) / fx * warped_depth_maps, (self.y_grid - cy) / fy * warped_depth_maps,\n",
        "             warped_depth_maps], dim=1)\n",
        "\n",
        "        loss = 2.0 * torch.sum(intersect_masks * torch.abs(location_3d_maps - warped_location_3d_maps), dim=(1, 2, 3),\n",
        "                               keepdim=False) / \\\n",
        "               (1.0e-5 * mean_value + torch.sum(\n",
        "                   intersect_masks * (depth_maps + torch.abs(warped_depth_maps)), dim=(1, 2, 3),\n",
        "                   keepdim=False))\n",
        "        return torch.mean(loss)\n",
        "\n",
        "\n",
        "class NormalizedL1Loss(nn.Module):\n",
        "    def __init__(self, eps=1.0e-3):\n",
        "        super(NormalizedL1Loss, self).__init__()\n",
        "        self.eps = eps\n",
        "\n",
        "    def forward(self, x):\n",
        "        depth_maps, warped_depth_maps, masks = x\n",
        "\n",
        "        mean_value = torch.sum(masks * depth_maps, dim=(1, 2, 3), keepdim=False) / (\n",
        "                self.eps + torch.sum(masks, dim=(1, 2, 3),\n",
        "                                     keepdim=False))\n",
        "        loss = torch.sum(masks * torch.abs(depth_maps - warped_depth_maps),\n",
        "                         dim=(1, 2, 3), keepdim=False) / (0.5 * torch.sum(\n",
        "            masks * (torch.abs(depth_maps) + torch.abs(warped_depth_maps)), dim=(1, 2, 3),\n",
        "            keepdim=False) + 1.0e-5 * mean_value)\n",
        "        return torch.mean(loss)"
      ]
    },
    {
      "cell_type": "code",
      "execution_count": 8,
      "id": "11ff8ccb",
      "metadata": {
        "id": "11ff8ccb"
      },
      "outputs": [],
      "source": [
        "class MaskedScaleInvariantLoss(nn.Module):\n",
        "    def __init__(self, epsilon=1.0e-8):\n",
        "        super(MaskedScaleInvariantLoss, self).__init__()\n",
        "        self.epsilon = torch.tensor(epsilon).float().cuda()\n",
        "        self.zero = torch.tensor(0.0).float().cuda()\n",
        "\n",
        "    def forward(self, x):\n",
        "        absolute_depth_estimations, input_sparse_depths, input_sparse_masks = x\n",
        "\n",
        "        depth_ratio_map = torch.where(input_sparse_depths < 0.5, self.zero,\n",
        "                                      torch.log(absolute_depth_estimations + self.epsilon) -\n",
        "                                      torch.log(input_sparse_depths))\n",
        "\n",
        "        weighted_sum = torch.sum(input_sparse_masks, dim=(1, 2, 3))\n",
        "        loss_1 = torch.sum(torch.mul(input_sparse_masks, depth_ratio_map * depth_ratio_map),\n",
        "                           dim=(1, 2, 3)) / weighted_sum\n",
        "        sum_2 = torch.sum(torch.mul(input_sparse_masks, depth_ratio_map), dim=(1, 2, 3))\n",
        "        loss_2 = (sum_2 * sum_2) / (weighted_sum * weighted_sum)\n",
        "\n",
        "        return torch.mean(loss_1 + loss_2)\n",
        "\n",
        "\n",
        "class AbsRelError(nn.Module):\n",
        "    def __init__(self, eps=1.0e-8):\n",
        "        super(AbsRelError, self).__init__()\n",
        "        self.eps = eps\n",
        "\n",
        "    def forward(self, x):\n",
        "        scaled_depth_maps, sparse_depth_maps, sparse_depth_masks = x\n",
        "        loss = torch.sum(\n",
        "            (sparse_depth_masks * torch.abs(scaled_depth_maps - sparse_depth_maps)) / (self.eps + sparse_depth_maps),\n",
        "            dim=(1, 2, 3), keepdim=False) / torch.sum(sparse_depth_masks, dim=(1, 2, 3), keepdim=False)\n",
        "        return loss"
      ]
    },
    {
      "cell_type": "code",
      "execution_count": 9,
      "id": "ddb7f8d2",
      "metadata": {
        "id": "ddb7f8d2"
      },
      "outputs": [],
      "source": [
        "class Threshold(nn.Module):\n",
        "    def __init__(self, eps=1.0e-8):\n",
        "        super(Threshold, self).__init__()\n",
        "        self.eps = eps\n",
        "\n",
        "    def forward(self, x):\n",
        "        scaled_depth_maps, sparse_depth_maps, sparse_depth_masks = x\n",
        "        threshold_map = \\\n",
        "            sparse_depth_masks * torch.max(scaled_depth_maps * sparse_depth_masks / (self.eps + sparse_depth_maps),\n",
        "                                           sparse_depth_maps / (self.eps + scaled_depth_maps * sparse_depth_masks)) + (\n",
        "                    1.0 - sparse_depth_masks) * 10.0\n",
        "\n",
        "        sigma_1 = torch.sum((threshold_map < 1.25).float(), dim=(1, 2, 3), keepdim=False) / torch.sum(\n",
        "            sparse_depth_masks,\n",
        "            dim=(1, 2, 3),\n",
        "            keepdim=False)\n",
        "        sigma_2 = torch.sum((threshold_map < 1.25 * 1.25).float(), dim=(1, 2, 3), keepdim=False) / torch.sum(\n",
        "            sparse_depth_masks,\n",
        "            dim=(1, 2, 3),\n",
        "            keepdim=False)\n",
        "        sigma_3 = torch.sum((threshold_map < 1.25 * 1.25 * 1.25).float(), dim=(1, 2, 3), keepdim=False) / torch.sum(\n",
        "            sparse_depth_masks,\n",
        "            dim=(1, 2, 3),\n",
        "            keepdim=False)\n",
        "\n",
        "        return [sigma_1, sigma_2, sigma_3]"
      ]
    }
  ],
  "metadata": {
    "kernelspec": {
      "display_name": "Python 3 (ipykernel)",
      "language": "python",
      "name": "python3"
    },
    "language_info": {
      "codemirror_mode": {
        "name": "ipython",
        "version": 3
      },
      "file_extension": ".py",
      "mimetype": "text/x-python",
      "name": "python",
      "nbconvert_exporter": "python",
      "pygments_lexer": "ipython3",
      "version": "3.9.16"
    },
    "colab": {
      "provenance": []
    }
  },
  "nbformat": 4,
  "nbformat_minor": 5
}